{
 "cells": [
  {
   "cell_type": "code",
   "execution_count": 13,
   "metadata": {},
   "outputs": [],
   "source": [
    "import os\n",
    "import csv"
   ]
  },
  {
   "cell_type": "code",
   "execution_count": 14,
   "metadata": {},
   "outputs": [],
   "source": [
    "#create an empty list to store values\n",
    "pybank = []\n",
    "with open(r'C:\\Users\\gericks\\Desktop\\USC Homework Submissions\\PythonChallenges\\PyBank\\03-Python_Homework_Instructions_PyBank_Resources_budget_data.csv') as mycsvfile:\n",
    "        #Create a csvreader object\n",
    "        csv_reader = csv.reader(mycsvfile, delimiter=\",\")\n",
    "        #Loop thru each row in the file and append each row in the pybank list\n",
    "        for row in csv_reader:\n",
    "            pybank.append(row)"
   ]
  },
  {
   "cell_type": "code",
   "execution_count": 15,
   "metadata": {},
   "outputs": [],
   "source": [
    "#Calculate all the month-rows in the data set and make it an integer\n",
    "totalmonths=len(pybank)-1"
   ]
  },
  {
   "cell_type": "code",
   "execution_count": 17,
   "metadata": {},
   "outputs": [],
   "source": [
    "#Calculate the total amount of \"Profit/Loss\" over entire period - loop thru whole list\n",
    "totalprofitloss= 0\n",
    "for i in range (0, len(pybank)-1):\n",
    "    totalprofitloss= totalprofitloss + int(pybank[i+1][1])"
   ]
  },
  {
   "cell_type": "code",
   "execution_count": 18,
   "metadata": {},
   "outputs": [],
   "source": [
    "#Calculate the total of the changes in Profit/Loss over the entire period \n",
    "totalchange = 0\n",
    "for i in range (0, len(pybank)-2):\n",
    "    totalchange = totalchange + int(pybank[i+2][1]) - int(pybank[i+1][1])"
   ]
  },
  {
   "cell_type": "code",
   "execution_count": 19,
   "metadata": {},
   "outputs": [],
   "source": [
    "#Calculate the average of the profit/loss over the entire period\n",
    "avgchange = totalchange/(len(pybank)-2)"
   ]
  },
  {
   "cell_type": "code",
   "execution_count": 20,
   "metadata": {},
   "outputs": [],
   "source": [
    "#Calculate the greatest increase in profits (date and amount) over the entire period - if i+2 > than i+1, then i+2 else i+1\n",
    "maxprofit = 0\n",
    "maxmonth = \"\"\n",
    "for i in range (0, len(pybank)-2):\n",
    "    if int(pybank[i+2][1]) - int(pybank[i+1][1])> maxprofit:\n",
    "        maxprofit = int(pybank[i+2][1]) - int(pybank[i+1][1])\n",
    "        maxmonth = pybank[i+2][0] "
   ]
  },
  {
   "cell_type": "code",
   "execution_count": 21,
   "metadata": {},
   "outputs": [],
   "source": [
    "#Calculate the greatest decrease in losses (date and amount) over the entire period \n",
    "minprofit = 0\n",
    "minmonth =\"\"\n",
    "for i in range (0, len(pybank)-2):\n",
    "    if int(pybank[i+2][1]) - int(pybank[i+1][1])< minprofit:\n",
    "        minprofit = int(pybank[i+2][1]) - int(pybank[i+1][1])\n",
    "        minmonth = pybank[i+2][0]"
   ]
  },
  {
   "cell_type": "code",
   "execution_count": 12,
   "metadata": {},
   "outputs": [
    {
     "name": "stdout",
     "output_type": "stream",
     "text": [
      "Financial Analysis\n",
      "-------------------------------------\n",
      "Total Months:  86\n",
      "Total: $  38382578\n",
      "Average Change: $  -2315.1176470588234\n",
      "Greatest Increase in Profits: Feb-12 1926159\n",
      "Greatest Decrease in Profits:  Sep-13 -2196167\n"
     ]
    }
   ],
   "source": [
    "print('Financial Analysis')\n",
    "print('-------------------------------------')\n",
    "print(\"Total Months: \", totalmonths)\n",
    "print(\"Total: $ \", totalprofitloss)\n",
    "print(\"Average Change: $ \", avgchange)\n",
    "print(\"Greatest Increase in Profits:\", maxmonth, maxprofit)\n",
    "print(\"Greatest Decrease in Profits: \", minmonth, minprofit)"
   ]
  },
  {
   "cell_type": "code",
   "execution_count": null,
   "metadata": {},
   "outputs": [],
   "source": []
  }
 ],
 "metadata": {
  "kernelspec": {
   "display_name": "Python 3",
   "language": "python",
   "name": "python3"
  },
  "language_info": {
   "codemirror_mode": {
    "name": "ipython",
    "version": 3
   },
   "file_extension": ".py",
   "mimetype": "text/x-python",
   "name": "python",
   "nbconvert_exporter": "python",
   "pygments_lexer": "ipython3",
   "version": "3.7.4"
  }
 },
 "nbformat": 4,
 "nbformat_minor": 2
}
